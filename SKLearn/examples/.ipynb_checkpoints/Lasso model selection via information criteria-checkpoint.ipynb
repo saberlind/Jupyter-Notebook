{
 "cells": [
  {
   "cell_type": "markdown",
   "id": "ee8d83b6-9d64-4a33-bdc6-4db728314fda",
   "metadata": {},
   "source": [
    "# <center>Lasso model selection via information criteria<center>"
   ]
  },
  {
   "cell_type": "code",
   "execution_count": null,
   "id": "c760c197-7f27-43d5-a467-d816ef28d48b",
   "metadata": {},
   "outputs": [],
   "source": []
  }
 ],
 "metadata": {
  "kernelspec": {
   "display_name": "Python 3 (ipykernel)",
   "language": "python",
   "name": "python3"
  },
  "language_info": {
   "codemirror_mode": {
    "name": "ipython",
    "version": 3
   },
   "file_extension": ".py",
   "mimetype": "text/x-python",
   "name": "python",
   "nbconvert_exporter": "python",
   "pygments_lexer": "ipython3",
   "version": "3.11.7"
  }
 },
 "nbformat": 4,
 "nbformat_minor": 5
}
