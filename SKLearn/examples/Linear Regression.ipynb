{
 "cells": [
  {
   "cell_type": "markdown",
   "id": "debe01e4-3dfe-40dd-bf8c-1db7a0209375",
   "metadata": {},
   "source": [
    "# <center>Linear Regression Example<center>"
   ]
  },
  {
   "cell_type": "markdown",
   "id": "82899fc2-f4b5-4f37-9555-e28ac2a21025",
   "metadata": {},
   "source": [
    "The example below uses only the first feature of the diabetes dataset, in order to illustrate the data points within the two-dimensional plot. The straight line can be seen in the plot, showing how linear regression attempts to draw a straight line that will best minimize the residual sum of squares between the observed responses in the dataset, and the responses predicted by the linear approximation\n",
    "\n",
    ".\n",
    "下面的例子只使用了糖尿病数据集的第一个特征，以说明二维图中的数据。\n",
    "图中可以看到这条直线，表明线性回归试图绘制一条直线，以最好地最小化数据集中观测响应与线性近似预测响应之间的残差平方\n",
    "\n",
    "The coefficients, residual sum of squares and the coefficient of determination are also calculated\n",
    "\n",
    "\n",
    "\n",
    "计算了系数、残差平方和和确定系数"
   ]
  },
  {
   "cell_type": "code",
   "execution_count": 1,
   "id": "b60a6b3d-b28d-4bc4-83e6-060912077257",
   "metadata": {},
   "outputs": [
    {
     "name": "stdout",
     "output_type": "stream",
     "text": [
      "Coefficients: \n",
      " [938.23786125]\n",
      "Mean squared error: 2548.07\n",
      "Coefficient of determination: 0.47\n"
     ]
    },
    {
     "data": {
      "image/png": "[encoded data removed]",
      "text/plain": [
       "<Figure size 640x480 with 1 Axes>"
      ]
     },
     "metadata": {},
     "output_type": "display_data"
    }
   ],
   "source": [
    "import matplotlib.pyplot as plt\n",
    "import numpy as np\n",
    "\n",
    "from sklearn import datasets, linear_model\n",
    "from sklearn.metrics import mean_squared_error, r2_score\n",
    "\n",
    "# Load the diabetes dataset\n",
    "diabetes_X, diabetes_y = datasets.load_diabetes(return_X_y=True)\n",
    "\n",
    "# Use only one feature\n",
    "diabetes_X = diabetes_X[:, np.newaxis, 2]\n",
    "\n",
    "# Split the data into training/testing sets\n",
    "diabetes_X_train = diabetes_X[:-20]\n",
    "diabetes_X_test = diabetes_X[-20:]\n",
    "\n",
    "# Split the targets into training/testing sets\n",
    "diabetes_y_train = diabetes_y[:-20]\n",
    "diabetes_y_test = diabetes_y[-20:]\n",
    "\n",
    "# Create linear regression object\n",
    "regr = linear_model.LinearRegression()\n",
    "\n",
    "# Train the model using the training sets\n",
    "regr.fit(diabetes_X_train, diabetes_y_train)\n",
    "\n",
    "# Make predictions using the testing set\n",
    "diabetes_y_pred = regr.predict(diabetes_X_test)\n",
    "\n",
    "# print(\"y_pred: \", diabetes_y_pred)\n",
    "# print(\"y_test: \", diabetes_y_test)\n",
    "# print(\"X_test: \", diabetes_X_test)\n",
    "# The coefficients(系数)\n",
    "print(\"Coefficients: \\n\", regr.coef_)\n",
    "# The mean squared error (均方误差)\n",
    "print(\"Mean squared error: %.2f\" % mean_squared_error(diabetes_y_test, diabetes_y_pred))\n",
    "# The coefficient of determination: 1 is perfect prediction (决定系数:1为完美预测)\n",
    "print(\"Coefficient of determination: %.2f\" % r2_score(diabetes_y_test, diabetes_y_pred))\n",
    "\n",
    "# Plot outputs\n",
    "plt.scatter(diabetes_X_test, diabetes_y_test, color=\"black\")\n",
    "plt.plot(diabetes_X_test, diabetes_y_pred, color=\"blue\", linewidth=3)\n",
    "\n",
    "plt.xlabel('x_test')\n",
    "plt.ylabel('y')\n",
    "# plt.xticks(())\n",
    "# plt.yticks(())\n",
    "\n",
    "plt.show()"
   ]
  },
  {
   "cell_type": "code",
   "execution_count": 2,
   "id": "5fc4ba55-5aa4-46eb-8a78-fab2944516b7",
   "metadata": {},
   "outputs": [
    {
     "name": "stdout",
     "output_type": "stream",
     "text": [
      "[[ 0  1  2  3  4  5]\n",
      " [ 6  7  8  9 10 11]\n",
      " [12 13 14 15 16 17]\n",
      " [18 19 20 21 22 23]\n",
      " [24 25 26 27 28 29]]\n",
      "[[ 2]\n",
      " [ 8]\n",
      " [14]\n",
      " [20]\n",
      " [26]]\n",
      "[[ 2]\n",
      " [ 8]\n",
      " [14]]\n",
      "[[20]\n",
      " [26]]\n"
     ]
    }
   ],
   "source": [
    "import numpy as np\n",
    "\n",
    "a = np.arange(30).reshape(5,6)\n",
    "print(a)\n",
    "b = a[:, np.newaxis, 2]\n",
    "print(b)\n",
    "print(b[:-2])\n",
    "print(b[-2:])"
   ]
  }
 ],
 "metadata": {
  "kernelspec": {
   "display_name": "Python 3 (ipykernel)",
   "language": "python",
   "name": "python3"
  },
  "language_info": {
   "codemirror_mode": {
    "name": "ipython",
    "version": 3
   },
   "file_extension": ".py",
   "mimetype": "text/x-python",
   "name": "python",
   "nbconvert_exporter": "python",
   "pygments_lexer": "ipython3",
   "version": "3.11.7"
  }
 },
 "nbformat": 4,
 "nbformat_minor": 5
}
