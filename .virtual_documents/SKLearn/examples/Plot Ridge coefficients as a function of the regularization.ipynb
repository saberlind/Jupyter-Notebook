





import matplotlib.pyplot as plt
import numpy as np

from sklearn import linear_model

# X is the 10x10 Hilbert matrix (希尔伯特矩阵)
X = 1.0 / (np.arange(1, 11) + np.arange(0, 10)[:, np.newaxis])
# print(X)
y = np.ones(10)

# Compute Paths
n_alphas = 200
# 生成从-10到-2的等比数列，共n_alphas个数
alphas = np.logspace(-10, -2, n_alphas)

coefs = []
for a in alphas:
    ridge = linear_model.Ridge(alpha=a, fit_intercept=False)
    ridge.fit(X, y)
    coefs.append(ridge.coef_)
    # print(ridge.coef_)

# print(coefs)

# Display results
ax = plt.gca()

ax.plot(alphas, coefs)
ax.set_xscale("log")
ax.set_xlim(ax.get_xlim()[::-1])  # reverse axis
plt.xlabel("alpha")
plt.ylabel("weights")
plt.title("Ridge coefficients as a function of the regularization")
# plt.axis("tight")
plt.show()


print(np.arange(1, 11))
print(np.arange(0, 10)[:, np.newaxis])
print(np.ones(10))
# np.logspace(-10, -2, n_alphas)



